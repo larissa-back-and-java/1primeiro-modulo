{
  "nbformat": 4,
  "nbformat_minor": 0,
  "metadata": {
    "colab": {
      "provenance": []
    },
    "kernelspec": {
      "name": "python3",
      "display_name": "Python 3"
    },
    "language_info": {
      "name": "python"
    }
  },
  "cells": [
    {
      "cell_type": "code",
      "source": [
        
        "num1 = float(input(\"Digite o primeiro número: \"))\n",
        "num2 = float(input(\"Digite o segundo número: \"))\n",
        "\n",
        
        "print(\"Escolha uma operação:\")\n",
        "print(\"1 - Adição\")\n",
        "print(\"2 - Subtração\")\n",
        "print(\"3 - Multiplicação\")\n",
        "print(\"4 - Divisão\")\n",
        "\n",
        
        "opcao = int(input(\"Digite a opção: \"))\n",
        "\n",
        
        "if opcao == 1:\n",
        "    resultado = num1 + num2\n",
        "    print(f\"O resultado da adição é: {resultado}\")\n",
        "elif opcao == 2:\n",
        "    resultado = num1 - num2\n",
        "    print(f\"O resultado da subtração é: {resultado}\")\n",
        "elif opcao == 3:\n",
        "    resultado = num1 * num2\n",
        "    print(f\"O resultado da multiplicação é: {resultado}\")\n",
        "elif opcao == 4:\n",
        "    if num2 != 0:\n",
        "        resultado = num1 / num2\n",
        "        print(f\"O resultado da divisão é: {resultado}\")\n",
        "    else:\n",
        "        print(\"Erro: divisão por zero não permitida.\")\n",
        "else:\n",
        "    print(\"Opção inválida.\")\n"
      ],
      "metadata": {
        "colab": {
          "base_uri": "https://localhost:8080/"
        },
        "id": "GN1b94Z1891g",
        "outputId": "c5e8749d-0abd-45cb-f72e-95bae63ede23"
      },
      "execution_count": 2,
      "outputs": [
        {
          "output_type": "stream",
          "name": "stdout",
          "text": [
            "Digite o primeiro número: 2\n",
            "Digite o segundo número: 4\n",
            "Escolha uma operação:\n",
            "1 - Adição\n",
            "2 - Subtração\n",
            "3 - Multiplicação\n",
            "4 - Divisão\n",
            "Digite a opção: 1\n",
            "O resultado da adição é: 6.0\n"
          ]
        }
      ]
    }
  ]
}
